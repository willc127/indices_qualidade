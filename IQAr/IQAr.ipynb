{
 "cells": [
  {
   "cell_type": "code",
   "execution_count": 1,
   "metadata": {},
   "outputs": [],
   "source": [
    "import numpy as np\n",
    "import pandas as pd\n",
    "import matplotlib.pyplot as plt"
   ]
  },
  {
   "cell_type": "markdown",
   "metadata": {},
   "source": [
    "## Estrutura do índice de qualidade do ar"
   ]
  },
  {
   "cell_type": "code",
   "execution_count": 2,
   "metadata": {},
   "outputs": [
    {
     "data": {
      "text/html": [
       "<div>\n",
       "<style scoped>\n",
       "    .dataframe tbody tr th:only-of-type {\n",
       "        vertical-align: middle;\n",
       "    }\n",
       "\n",
       "    .dataframe tbody tr th {\n",
       "        vertical-align: top;\n",
       "    }\n",
       "\n",
       "    .dataframe thead th {\n",
       "        text-align: right;\n",
       "    }\n",
       "</style>\n",
       "<table border=\"1\" class=\"dataframe\">\n",
       "  <thead>\n",
       "    <tr style=\"text-align: right;\">\n",
       "      <th></th>\n",
       "      <th>Qualidade</th>\n",
       "      <th>indicemin</th>\n",
       "      <th>indicemax</th>\n",
       "      <th>MP10min</th>\n",
       "      <th>MP10max</th>\n",
       "      <th>MP25min</th>\n",
       "      <th>MP25max</th>\n",
       "      <th>O3min</th>\n",
       "      <th>O3max</th>\n",
       "      <th>COmin</th>\n",
       "      <th>COmax</th>\n",
       "      <th>NO2min</th>\n",
       "      <th>NO2max</th>\n",
       "      <th>SO2min</th>\n",
       "      <th>SO2max</th>\n",
       "    </tr>\n",
       "  </thead>\n",
       "  <tbody>\n",
       "    <tr>\n",
       "      <th>0</th>\n",
       "      <td>Boa</td>\n",
       "      <td>0</td>\n",
       "      <td>40</td>\n",
       "      <td>0</td>\n",
       "      <td>50</td>\n",
       "      <td>0</td>\n",
       "      <td>100</td>\n",
       "      <td>0</td>\n",
       "      <td>100</td>\n",
       "      <td>0</td>\n",
       "      <td>9</td>\n",
       "      <td>0</td>\n",
       "      <td>200</td>\n",
       "      <td>0</td>\n",
       "      <td>20</td>\n",
       "    </tr>\n",
       "    <tr>\n",
       "      <th>1</th>\n",
       "      <td>Moderada</td>\n",
       "      <td>41</td>\n",
       "      <td>80</td>\n",
       "      <td>50</td>\n",
       "      <td>100</td>\n",
       "      <td>100</td>\n",
       "      <td>130</td>\n",
       "      <td>100</td>\n",
       "      <td>130</td>\n",
       "      <td>9</td>\n",
       "      <td>11</td>\n",
       "      <td>200</td>\n",
       "      <td>240</td>\n",
       "      <td>20</td>\n",
       "      <td>40</td>\n",
       "    </tr>\n",
       "    <tr>\n",
       "      <th>2</th>\n",
       "      <td>Ruim</td>\n",
       "      <td>81</td>\n",
       "      <td>120</td>\n",
       "      <td>100</td>\n",
       "      <td>150</td>\n",
       "      <td>130</td>\n",
       "      <td>160</td>\n",
       "      <td>130</td>\n",
       "      <td>160</td>\n",
       "      <td>11</td>\n",
       "      <td>13</td>\n",
       "      <td>240</td>\n",
       "      <td>320</td>\n",
       "      <td>40</td>\n",
       "      <td>365</td>\n",
       "    </tr>\n",
       "    <tr>\n",
       "      <th>3</th>\n",
       "      <td>Muito Ruim</td>\n",
       "      <td>121</td>\n",
       "      <td>200</td>\n",
       "      <td>150</td>\n",
       "      <td>250</td>\n",
       "      <td>160</td>\n",
       "      <td>200</td>\n",
       "      <td>160</td>\n",
       "      <td>200</td>\n",
       "      <td>13</td>\n",
       "      <td>15</td>\n",
       "      <td>320</td>\n",
       "      <td>1130</td>\n",
       "      <td>365</td>\n",
       "      <td>800</td>\n",
       "    </tr>\n",
       "    <tr>\n",
       "      <th>4</th>\n",
       "      <td>Péssima</td>\n",
       "      <td>200</td>\n",
       "      <td>200</td>\n",
       "      <td>250</td>\n",
       "      <td>250</td>\n",
       "      <td>200</td>\n",
       "      <td>200</td>\n",
       "      <td>200</td>\n",
       "      <td>200</td>\n",
       "      <td>15</td>\n",
       "      <td>15</td>\n",
       "      <td>1130</td>\n",
       "      <td>1130</td>\n",
       "      <td>800</td>\n",
       "      <td>800</td>\n",
       "    </tr>\n",
       "  </tbody>\n",
       "</table>\n",
       "</div>"
      ],
      "text/plain": [
       "    Qualidade  indicemin  indicemax  MP10min  MP10max  MP25min  MP25max  \\\n",
       "0         Boa          0         40        0       50        0      100   \n",
       "1    Moderada         41         80       50      100      100      130   \n",
       "2        Ruim         81        120      100      150      130      160   \n",
       "3  Muito Ruim        121        200      150      250      160      200   \n",
       "4     Péssima        200        200      250      250      200      200   \n",
       "\n",
       "   O3min  O3max  COmin  COmax  NO2min  NO2max  SO2min  SO2max  \n",
       "0      0    100      0      9       0     200       0      20  \n",
       "1    100    130      9     11     200     240      20      40  \n",
       "2    130    160     11     13     240     320      40     365  \n",
       "3    160    200     13     15     320    1130     365     800  \n",
       "4    200    200     15     15    1130    1130     800     800  "
      ]
     },
     "metadata": {},
     "output_type": "display_data"
    }
   ],
   "source": [
    "# Data for the DataFrame\n",
    "data = {\n",
    "    'Qualidade': ['Boa', 'Moderada', 'Ruim', 'Muito Ruim', 'Péssima'],\n",
    "    'indicemin': [0, 41, 81, 121, 200],\n",
    "    'indicemax': [40, 80, 120, 200, 200],\n",
    "    'MP10min': [0, 50, 100, 150, 250],\n",
    "    'MP10max': [50, 100, 150, 250, 250],\n",
    "    'MP25min': [0, 100, 130, 160, 200],\n",
    "    'MP25max': [100, 130, 160, 200, 200],\n",
    "    'O3min': [0, 100, 130, 160, 200],\n",
    "    'O3max': [100, 130, 160, 200, 200],\n",
    "    'COmin': [0, 9, 11, 13, 15],\n",
    "    'COmax': [9, 11, 13, 15, 15],\n",
    "    'NO2min': [0, 200, 240, 320, 1130],\n",
    "    'NO2max': [200, 240, 320, 1130, 1130],\n",
    "    'SO2min': [0, 20, 40, 365, 800],\n",
    "    'SO2max': [20, 40, 365, 800, 800]\n",
    "}\n",
    "\n",
    "# Creating the DataFrame\n",
    "indice_df = pd.DataFrame(data)\n",
    "\n",
    "# Displaying the DataFrame\n",
    "display(indice_df)\n"
   ]
  },
  {
   "cell_type": "markdown",
   "metadata": {},
   "source": [
    "## Critérios para episódios agudos de poluição do ar"
   ]
  },
  {
   "cell_type": "code",
   "execution_count": 3,
   "metadata": {},
   "outputs": [
    {
     "data": {
      "text/html": [
       "<div>\n",
       "<style scoped>\n",
       "    .dataframe tbody tr th:only-of-type {\n",
       "        vertical-align: middle;\n",
       "    }\n",
       "\n",
       "    .dataframe tbody tr th {\n",
       "        vertical-align: top;\n",
       "    }\n",
       "\n",
       "    .dataframe thead th {\n",
       "        text-align: right;\n",
       "    }\n",
       "</style>\n",
       "<table border=\"1\" class=\"dataframe\">\n",
       "  <thead>\n",
       "    <tr style=\"text-align: right;\">\n",
       "      <th></th>\n",
       "      <th>Parâmetros</th>\n",
       "      <th>Atenção</th>\n",
       "      <th>Alerta</th>\n",
       "      <th>Emergência</th>\n",
       "    </tr>\n",
       "  </thead>\n",
       "  <tbody>\n",
       "    <tr>\n",
       "      <th>0</th>\n",
       "      <td>MP10</td>\n",
       "      <td>250</td>\n",
       "      <td>420</td>\n",
       "      <td>500</td>\n",
       "    </tr>\n",
       "    <tr>\n",
       "      <th>1</th>\n",
       "      <td>MP25</td>\n",
       "      <td>125</td>\n",
       "      <td>210</td>\n",
       "      <td>250</td>\n",
       "    </tr>\n",
       "    <tr>\n",
       "      <th>2</th>\n",
       "      <td>O3</td>\n",
       "      <td>200</td>\n",
       "      <td>400</td>\n",
       "      <td>600</td>\n",
       "    </tr>\n",
       "    <tr>\n",
       "      <th>3</th>\n",
       "      <td>CO</td>\n",
       "      <td>15</td>\n",
       "      <td>30</td>\n",
       "      <td>40</td>\n",
       "    </tr>\n",
       "    <tr>\n",
       "      <th>4</th>\n",
       "      <td>NO2</td>\n",
       "      <td>1130</td>\n",
       "      <td>2260</td>\n",
       "      <td>3000</td>\n",
       "    </tr>\n",
       "    <tr>\n",
       "      <th>5</th>\n",
       "      <td>SO2</td>\n",
       "      <td>800</td>\n",
       "      <td>1600</td>\n",
       "      <td>2100</td>\n",
       "    </tr>\n",
       "  </tbody>\n",
       "</table>\n",
       "</div>"
      ],
      "text/plain": [
       "  Parâmetros  Atenção  Alerta  Emergência\n",
       "0       MP10      250     420         500\n",
       "1       MP25      125     210         250\n",
       "2         O3      200     400         600\n",
       "3         CO       15      30          40\n",
       "4        NO2     1130    2260        3000\n",
       "5        SO2      800    1600        2100"
      ]
     },
     "metadata": {},
     "output_type": "display_data"
    }
   ],
   "source": [
    "data2 = {\n",
    "    'Parâmetros': ['MP10','MP25','O3','CO','NO2','SO2'],\n",
    "    'Atenção': [250,125,200,15,1130,800],\n",
    "    'Alerta': [420,210,400,30,2260,1600],\n",
    "    'Emergência': [500,250,600,40,3000,2100]\n",
    "}\n",
    "\n",
    "# Creating the DataFrame\n",
    "ep_agudos_df = pd.DataFrame(data2)\n",
    "\n",
    "# Displaying the DataFrame\n",
    "display(ep_agudos_df)"
   ]
  },
  {
   "cell_type": "markdown",
   "metadata": {},
   "source": [
    "## Qualidade do ar e efeitos à saúde"
   ]
  },
  {
   "cell_type": "code",
   "execution_count": 25,
   "metadata": {},
   "outputs": [
    {
     "data": {
      "text/html": [
       "<div>\n",
       "<style scoped>\n",
       "    .dataframe tbody tr th:only-of-type {\n",
       "        vertical-align: middle;\n",
       "    }\n",
       "\n",
       "    .dataframe tbody tr th {\n",
       "        vertical-align: top;\n",
       "    }\n",
       "\n",
       "    .dataframe thead th {\n",
       "        text-align: right;\n",
       "    }\n",
       "</style>\n",
       "<table border=\"1\" class=\"dataframe\">\n",
       "  <thead>\n",
       "    <tr style=\"text-align: right;\">\n",
       "      <th></th>\n",
       "      <th>Qualidade</th>\n",
       "      <th>Significado</th>\n",
       "    </tr>\n",
       "  </thead>\n",
       "  <tbody>\n",
       "    <tr>\n",
       "      <th>0</th>\n",
       "      <td>Boa</td>\n",
       "      <td>Pessoas de grupos sensíveis (crianças, idosos ...</td>\n",
       "    </tr>\n",
       "    <tr>\n",
       "      <th>1</th>\n",
       "      <td>Moderada</td>\n",
       "      <td>Pessoas de grupos sensíveis (crianças, idosos ...</td>\n",
       "    </tr>\n",
       "    <tr>\n",
       "      <th>2</th>\n",
       "      <td>Ruim</td>\n",
       "      <td>Toda a população pode apresentar sintomas como...</td>\n",
       "    </tr>\n",
       "    <tr>\n",
       "      <th>3</th>\n",
       "      <td>Muito Ruim</td>\n",
       "      <td>Toda a população pode apresentar agravamento d...</td>\n",
       "    </tr>\n",
       "    <tr>\n",
       "      <th>4</th>\n",
       "      <td>Péssima</td>\n",
       "      <td>Toda a população pode apresentar sérios riscos...</td>\n",
       "    </tr>\n",
       "  </tbody>\n",
       "</table>\n",
       "</div>"
      ],
      "text/plain": [
       "    Qualidade                                        Significado\n",
       "0         Boa  Pessoas de grupos sensíveis (crianças, idosos ...\n",
       "1    Moderada  Pessoas de grupos sensíveis (crianças, idosos ...\n",
       "2        Ruim  Toda a população pode apresentar sintomas como...\n",
       "3  Muito Ruim  Toda a população pode apresentar agravamento d...\n",
       "4     Péssima  Toda a população pode apresentar sérios riscos..."
      ]
     },
     "metadata": {},
     "output_type": "display_data"
    }
   ],
   "source": [
    "data3 = {\n",
    "    'Qualidade': ['Boa', 'Moderada', 'Ruim', 'Muito Ruim', 'Péssima'],\n",
    "    'Significado': [\n",
    "        'Pessoas de grupos sensíveis (crianças, idosos e pessoas com doenças respiratórias e cardíacas) podem apresentar sintomas como tosse seca e cansaço. A população, em geral, não é afetada.',\n",
    "        'Pessoas de grupos sensíveis (crianças, idosos e pessoas com doenças respiratórias e cardíacas) podem apresentar sintomas como tosse seca e cansaço. A população, em geral, não é afetada.',\n",
    "        'Toda a população pode apresentar sintomas como tosse seca, cansaço, ardor nos olhos, nariz e garganta. Pessoas de grupos sensíveis (crianças, idosos e pessoas com doenças respiratórias e cardíacas) podem apresentar efeitos mais sérios na saúde.',\n",
    "        'Toda a população pode apresentar agravamento dos sintomas como tosse seca, cansaço, ardor nos olhos, nariz e garganta e ainda falta de ar e respiração ofegante. Efeitos ainda mais graves à saúde de grupos sensíveis (crianças, idosos e pessoas com doenças respiratórias e cardíacas).',\n",
    "        'Toda a população pode apresentar sérios riscos de manifestações de doenças respiratórias e cardiovasculares. Aumento de mortes prematuras em pessoas de grupos sensíveis.'\n",
    "    ]\n",
    "}\n",
    "\n",
    "intervalos_df = pd.DataFrame(data3)\n",
    "display(intervalos_df)"
   ]
  },
  {
   "cell_type": "markdown",
   "metadata": {},
   "source": [
    "## Cálculo do índice de qualidade do ar (IQAr) para cada poluente. \n",
    "RESOLUÇÃO CONAMA Nº 491 DE 19/11/2018"
   ]
  },
  {
   "cell_type": "code",
   "execution_count": 27,
   "metadata": {},
   "outputs": [],
   "source": [
    "def calc_IQAr(C, C_min, C_max, I_min, I_max):\n",
    "\n",
    "    IQAr = I_min + (I_max - I_min)/(C_max - C_min) * (C - C_min)\n",
    "\n",
    "    if IQAr > 0 and IQAr <= 40:\n",
    "        qualidade = intervalos_df['Qualidade'][0]\n",
    "\n",
    "    elif IQAr > 40 and IQAr <= 80:\n",
    "        qualidade = intervalos_df['Qualidade'][1]\n",
    "\n",
    "    elif IQAr > 80 and IQAr <= 120:\n",
    "        qualidade = intervalos_df['Qualidade'][2]\n",
    "\n",
    "    elif IQAr > 120 and IQAr <= 200:\n",
    "        qualidade = intervalos_df['Qualidade'][3]\n",
    "\n",
    "    elif IQAr > 200:\n",
    "        qualidade = intervalos_df['Qualidade'][4]\n",
    "\n",
    "        \n",
    "    print(f'Índice de qualidade do ar: {IQAr:.1f}')\n",
    "    print(f'Qualidade do ar: {qualidade}.\\n')\n",
    "    \n",
    "    return IQAr, qualidade"
   ]
  },
  {
   "cell_type": "code",
   "execution_count": 28,
   "metadata": {},
   "outputs": [],
   "source": [
    "def calcular_qualidade(valor_poluente, poluente):\n",
    "    for i in range(len(indice_df)):\n",
    "        if valor_poluente >= indice_df[f'{poluente}min'][i] and valor_poluente <= indice_df[f'{poluente}max'][i]:\n",
    "            qualidade = indice_df['Qualidade'][i]\n",
    "            ind_min = indice_df['indicemin'][i]\n",
    "            ind_max = indice_df['indicemax'][i]\n",
    "            poluente_min = indice_df[f'{poluente}min'][i]\n",
    "            poluente_max = indice_df[f'{poluente}max'][i]\n",
    "            print(poluente)\n",
    "            iqar = calc_IQAr(valor_poluente, poluente_min, poluente_max, ind_min, ind_max)\n",
    "            return qualidade, iqar\n"
   ]
  },
  {
   "cell_type": "markdown",
   "metadata": {},
   "source": [
    "## Valores de uma amostra de ar atmosférico"
   ]
  },
  {
   "cell_type": "code",
   "execution_count": 29,
   "metadata": {},
   "outputs": [
    {
     "name": "stdout",
     "output_type": "stream",
     "text": [
      "MP10\n",
      "Índice de qualidade do ar: 160.5\n",
      "Qualidade do ar: Muito Ruim.\n",
      "\n",
      "MP25\n",
      "Índice de qualidade do ar: 107.0\n",
      "Qualidade do ar: Ruim.\n",
      "\n",
      "O3\n",
      "Índice de qualidade do ar: 10.0\n",
      "Qualidade do ar: Boa.\n",
      "\n",
      "CO\n",
      "Índice de qualidade do ar: 100.5\n",
      "Qualidade do ar: Ruim.\n",
      "\n",
      "NO2\n",
      "Índice de qualidade do ar: 187.3\n",
      "Qualidade do ar: Muito Ruim.\n",
      "\n",
      "SO2\n",
      "Índice de qualidade do ar: 145.5\n",
      "Qualidade do ar: Muito Ruim.\n",
      "\n"
     ]
    }
   ],
   "source": [
    "\n",
    "MP10 = 200\n",
    "MP25 = 150\n",
    "O3 = 25\n",
    "CO = 12\n",
    "NO2 = 1000\n",
    "SO2 = 500\n",
    "\n",
    "qualidade_MP10, mp10 = calcular_qualidade(MP10, 'MP10')\n",
    "qualidade_MP25, mp25 = calcular_qualidade(MP25, 'MP25')\n",
    "qualidade_O3, o3 = calcular_qualidade(O3, 'O3')\n",
    "qualidade_CO, co = calcular_qualidade(CO, 'CO')\n",
    "qualidade_NO2, no2 = calcular_qualidade(NO2, 'NO2')\n",
    "qualidade_SO2, so2 = calcular_qualidade(SO2, 'SO2')\n"
   ]
  },
  {
   "cell_type": "markdown",
   "metadata": {},
   "source": [
    "### Adotar a pior qualidade individual como correspondente à qualidade final do ar"
   ]
  },
  {
   "cell_type": "code",
   "execution_count": 30,
   "metadata": {},
   "outputs": [],
   "source": [
    "qualidade_array = [qualidade_MP10,qualidade_MP25,qualidade_O3,qualidade_CO,qualidade_NO2,qualidade_SO2]\n",
    "pesos = []\n",
    "for i in qualidade_array:\n",
    "    peso = indice_df.loc[indice_df['Qualidade'] == i].index[0]\n",
    "    pesos.append(peso)\n",
    "\n",
    "qualidade_final = indice_df['Qualidade'][np.max(pesos)]"
   ]
  },
  {
   "cell_type": "markdown",
   "metadata": {},
   "source": [
    "# determinar o estado de atenção"
   ]
  },
  {
   "cell_type": "code",
   "execution_count": null,
   "metadata": {},
   "outputs": [],
   "source": [
    "#A declaração dos estados de Atenção, Alerta e Emergência\n",
    "\n",
    "if MP10 < Atenção:\n",
    "    Não há estado de atenção\n",
    "elif: MP10 < Alerta:\n",
    "    Estado de atenção\n",
    "elif: MP10< EmergÊncia\n",
    "    Estado de alerta\n",
    "    elif MP10 >= Emergência\n",
    "    Estado de emergência"
   ]
  },
  {
   "cell_type": "markdown",
   "metadata": {},
   "source": [
    "# Resultados finais da qualidade do ar"
   ]
  },
  {
   "cell_type": "code",
   "execution_count": 31,
   "metadata": {},
   "outputs": [
    {
     "name": "stdout",
     "output_type": "stream",
     "text": [
      "A qualidade final do ar foi classificada como Muito Ruim.\n",
      "Toda a população pode apresentar agravamento dos sintomas como tosse seca, cansaço, ardor nos olhos, nariz e garganta e ainda falta de ar e respiração ofegante. Efeitos ainda mais graves à saúde de grupos sensíveis (crianças, idosos e pessoas com doenças respiratórias e cardíacas).\n"
     ]
    }
   ],
   "source": [
    "\n",
    "print(f'A qualidade final do ar foi classificada como {qualidade_final}.')\n",
    "print(intervalos_df['Significado'][np.max(pesos)])\n"
   ]
  }
 ],
 "metadata": {
  "kernelspec": {
   "display_name": "Python 3",
   "language": "python",
   "name": "python3"
  },
  "language_info": {
   "codemirror_mode": {
    "name": "ipython",
    "version": 3
   },
   "file_extension": ".py",
   "mimetype": "text/x-python",
   "name": "python",
   "nbconvert_exporter": "python",
   "pygments_lexer": "ipython3",
   "version": "3.11.4"
  }
 },
 "nbformat": 4,
 "nbformat_minor": 2
}
